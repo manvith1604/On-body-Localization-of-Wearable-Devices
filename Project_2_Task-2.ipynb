{
  "nbformat": 4,
  "nbformat_minor": 0,
  "metadata": {
    "colab": {
      "provenance": []
    },
    "kernelspec": {
      "name": "python3",
      "display_name": "Python 3"
    },
    "language_info": {
      "name": "python"
    }
  },
  "cells": [
    {
      "cell_type": "code",
      "source": [
        "from sklearn.cluster import KMeans\n",
        "from sklearn.cluster import AgglomerativeClustering\n",
        "from sklearn.preprocessing import MinMaxScaler\n",
        "from sklearn import metrics\n",
        "from scipy.cluster.hierarchy import dendrogram, linkage\n",
        "from sklearn.metrics import silhouette_score\n",
        "import pandas as pd\n",
        "from matplotlib import pyplot as plt\n",
        "import numpy as np\n",
        "%matplotlib inline"
      ],
      "metadata": {
        "id": "OxhMl0fj_RLq"
      },
      "execution_count": 507,
      "outputs": []
    },
    {
      "cell_type": "code",
      "source": [
        "from google.colab import files\n",
        "uploaded = files.upload()"
      ],
      "metadata": {
        "id": "6bVkKSdvMQCe"
      },
      "execution_count": null,
      "outputs": []
    },
    {
      "cell_type": "code",
      "source": [
        "import warnings\n",
        "warnings.filterwarnings(\"ignore\")"
      ],
      "metadata": {
        "id": "LNasvBe-s9JP"
      },
      "execution_count": 508,
      "outputs": []
    },
    {
      "cell_type": "code",
      "source": [
        "df = pd.read_csv('World Indicators.csv')\n",
        "# df"
      ],
      "metadata": {
        "id": "cbltpXu-MQeJ"
      },
      "execution_count": 509,
      "outputs": []
    },
    {
      "cell_type": "code",
      "source": [
        "#Dropping null values\n",
        "df = df.dropna()"
      ],
      "metadata": {
        "id": "eeHIaxRU2u_a"
      },
      "execution_count": 510,
      "outputs": []
    },
    {
      "cell_type": "code",
      "source": [
        "#Formatting dataset to remove $ and % symbols\n",
        "df[\"GDP\"] = df[\"GDP\"].str.replace(\"$\",\"\").str.replace(\",\",\"\").astype(float)\n",
        "df[\"Business Tax Rate\"] = df[\"Business Tax Rate\"].str.replace(\"%\",\"\").str.replace(\",\",\"\").astype(float)\n",
        "df[\"Health Exp/Capita\"] = df[\"Health Exp/Capita\"].str.replace(\"$\",\"\").str.replace(\",\",\"\").astype(float)"
      ],
      "metadata": {
        "id": "ONnacia9NcC2"
      },
      "execution_count": 511,
      "outputs": []
    },
    {
      "cell_type": "code",
      "source": [
        "df_2 = df.copy()"
      ],
      "metadata": {
        "id": "5VOFlDRerBqh"
      },
      "execution_count": 512,
      "outputs": []
    },
    {
      "cell_type": "code",
      "source": [
        "#Dropping non-numeric values\n",
        "df = df.drop(['Region', 'Country'], axis=1)\n",
        "df = df.drop(['Energy Usage', 'Lending Interest'], axis=1)"
      ],
      "metadata": {
        "id": "rJOnXP8dNpFy"
      },
      "execution_count": 513,
      "outputs": []
    },
    {
      "cell_type": "code",
      "source": [
        "df"
      ],
      "metadata": {
        "id": "BO9LXA1eW9Ri"
      },
      "execution_count": null,
      "outputs": []
    },
    {
      "cell_type": "code",
      "source": [
        "# normalizing data\n",
        "scaler = MinMaxScaler()\n",
        "df_normalized = scaler.fit_transform(df)"
      ],
      "metadata": {
        "id": "QDTdHUHAKrdI"
      },
      "execution_count": 515,
      "outputs": []
    },
    {
      "cell_type": "code",
      "source": [
        "df_pr = pd.DataFrame(df_normalized, columns=df.columns)    \n",
        "df_pr"
      ],
      "metadata": {
        "id": "8bPmFD2Gv1aU"
      },
      "execution_count": null,
      "outputs": []
    },
    {
      "cell_type": "markdown",
      "source": [
        "Elbow Plot"
      ],
      "metadata": {
        "id": "uNbOB4WnFHTN"
      }
    },
    {
      "cell_type": "code",
      "execution_count": 517,
      "metadata": {
        "id": "fe99d3a5"
      },
      "outputs": [],
      "source": [
        "k_rng = range(1,11)\n",
        "sse =[]\n",
        "for k in k_rng:\n",
        "    km1 = KMeans(n_clusters=k)\n",
        "    km1.fit_predict(df_pr.iloc[:,0:15])\n",
        "    sse.append(km1.inertia_)"
      ]
    },
    {
      "cell_type": "code",
      "source": [
        "sse"
      ],
      "metadata": {
        "id": "LsxnTojo-_nH"
      },
      "execution_count": null,
      "outputs": []
    },
    {
      "cell_type": "code",
      "execution_count": null,
      "metadata": {
        "id": "c139783c"
      },
      "outputs": [],
      "source": [
        "plt.xlabel('K')\n",
        "plt.ylabel('Sum of Squared Error')\n",
        "plt.plot(k_rng,sse)"
      ]
    },
    {
      "cell_type": "markdown",
      "source": [
        "K-Means Clustering"
      ],
      "metadata": {
        "id": "fQ_mxdqL_7iK"
      }
    },
    {
      "cell_type": "code",
      "source": [
        "# K-means scores for k = 2 to 5\n",
        "for n in range(2, 6):\n",
        "    km_test = KMeans(n_clusters=n)\n",
        "    y_test_predicted = km_test.fit_predict(df_pr.iloc[:,0:15])\n",
        "    shscore = metrics.silhouette_score(df_pr.iloc[:,0:15], y_test_predicted)\n",
        "    print(f\"SHScore with K equals {n}: {shscore}\")"
      ],
      "metadata": {
        "colab": {
          "base_uri": "https://localhost:8080/"
        },
        "id": "FlzG7sQxsqKA",
        "outputId": "bea139f2-4aaa-4454-d05e-94722f687f2e"
      },
      "execution_count": 521,
      "outputs": [
        {
          "output_type": "stream",
          "name": "stdout",
          "text": [
            "SHScore with K equals 2: 0.3645406509699328\n",
            "SHScore with K equals 3: 0.26211896985169775\n",
            "SHScore with K equals 4: 0.26075215366845544\n",
            "SHScore with K equals 5: 0.2198817699532651\n"
          ]
        }
      ]
    },
    {
      "cell_type": "markdown",
      "source": [
        "SHScore plot using Kmeans clusters"
      ],
      "metadata": {
        "id": "yLcXMJIEGgZi"
      }
    },
    {
      "cell_type": "code",
      "source": [
        "cluster_range_1 = range(2, 10)\n",
        "\n",
        "# Initializing lists to store silhouette scores and cluster labels for each size\n",
        "silhouette_scores = []\n",
        "cluster_labels = []\n",
        "\n",
        "# Looping through the range of cluster sizes and fit a KMeans model for each one\n",
        "for n_clusters in cluster_range_1:\n",
        "    km_test = KMeans(n_clusters=n_clusters)\n",
        "    cluster_labels.append(km_test.fit_predict(df_pr.iloc[:,0:15]))\n",
        "    silhouette_scores.append(silhouette_score(df_pr.iloc[:,0:15], cluster_labels[-1]))\n",
        "\n",
        "\n",
        "# Plotting the silhouette scores\n",
        "plt.plot(cluster_range_1, silhouette_scores, 'bo-')\n",
        "plt.xlabel('No of clusters')\n",
        "plt.ylabel('SHScore')\n",
        "plt.show()"
      ],
      "metadata": {
        "id": "1bqxpaOBFYPj"
      },
      "execution_count": null,
      "outputs": []
    },
    {
      "cell_type": "markdown",
      "source": [
        "Hierarchical clustering"
      ],
      "metadata": {
        "id": "jS_C5scTDZ93"
      }
    },
    {
      "cell_type": "code",
      "source": [
        "# Create loop for n_clusters from 2 to 5\n",
        "for n in range(2, 6):\n",
        "    # Hierarchical clustering\n",
        "    hc_test_1 = AgglomerativeClustering(n_clusters=n)\n",
        "    hc_test_1.fit(df_pr.iloc[:,0:15])\n",
        "    \n",
        "    # Calculate silhouette score\n",
        "    sh_score = metrics.silhouette_score(df_pr.iloc[:,0:15], hc_test_1.labels_)\n",
        "    print(f'SHScore with Hierarchical clusters equals {n}: {sh_score}')"
      ],
      "metadata": {
        "id": "0OX1Oy53uxaa"
      },
      "execution_count": null,
      "outputs": []
    },
    {
      "cell_type": "markdown",
      "source": [
        "SHScore plot using Hierarchical clustering"
      ],
      "metadata": {
        "id": "gzhQSB1hIJQU"
      }
    },
    {
      "cell_type": "code",
      "source": [
        "# Define the range of clusters to test\n",
        "cluster_range_2 = range(2, 10)\n",
        "\n",
        "# Initialize lists to store silhouette scores and cluster labels for each size\n",
        "silhouette_scores_hc = []\n",
        "cluster_labels_hc = []\n",
        "\n",
        "# Loop through the range of cluster sizes and fit a hierarchical clustering model for each one\n",
        "for n_clusters in cluster_range_2:\n",
        "    hc_test_1 = AgglomerativeClustering(n_clusters=n_clusters)\n",
        "    cluster_labels_hc.append(hc_test_1.fit_predict(df_pr.iloc[:,0:15]))\n",
        "    silhouette_scores_hc.append(silhouette_score(df_pr.iloc[:,0:15], cluster_labels_hc[-1]))\n",
        "\n",
        "# Plot the silhouette scores\n",
        "plt.plot(cluster_range_2, silhouette_scores_hc, 'bo-')\n",
        "plt.xlabel('No of clusters')\n",
        "plt.ylabel('SHScore')\n",
        "plt.show()"
      ],
      "metadata": {
        "id": "ZdhK86nGGt41"
      },
      "execution_count": null,
      "outputs": []
    },
    {
      "cell_type": "markdown",
      "source": [
        "Reporting the best clustering solution."
      ],
      "metadata": {
        "id": "fDejt6qp0EZY"
      }
    },
    {
      "cell_type": "code",
      "source": [
        "# Hence for k=2, the score is highest \n",
        "\n",
        "# silhouette_score with K=2\n",
        "km_tested = KMeans(n_clusters=2)\n",
        "y_tested = km_tested.fit_predict(df_pr.iloc[:,0:15])\n",
        "print('SHScore with K equals 2: '+ str(metrics.silhouette_score(df_pr.iloc[:,0:15], y_tested)))\n",
        "\n",
        "# hierarchical clustering with K=2\n",
        "hc_tested = AgglomerativeClustering(n_clusters=2)\n",
        "hc_tested.fit(df_pr.iloc[:,0:15])\n",
        "print('SHScore with clusters equals 2 : '+ str(metrics.silhouette_score(df_pr.iloc[:,0:15], hc_tested.labels_)))\n",
        "print(\"Since Silhouette score for Hierarchical clustering is the highest , Hierarchical clustering is considered as the best solution\")"
      ],
      "metadata": {
        "colab": {
          "base_uri": "https://localhost:8080/"
        },
        "id": "Q59b3qguCs__",
        "outputId": "66f79e47-0445-4254-f8ae-6590837b878b"
      },
      "execution_count": 526,
      "outputs": [
        {
          "output_type": "stream",
          "name": "stdout",
          "text": [
            "SHScore with K equals 2: 0.3645406509699328\n",
            "SHScore with clusters equals 2 : 0.37816563381651036\n",
            "Since Silhouette score for Hierarchical clustering is the highest , Hierarchical clustering is considered as the best solution\n"
          ]
        }
      ]
    },
    {
      "cell_type": "markdown",
      "source": [
        "Grouping countries based on K-means and hierarchical clustering methods"
      ],
      "metadata": {
        "id": "fTIX_MuBzB2F"
      }
    },
    {
      "cell_type": "code",
      "source": [
        "Hierarchical_grouping = pd.DataFrame({'Cluster': hc_tested.labels_, 'Country': df_2['Country']})\n",
        "Hierarchical_grouping"
      ],
      "metadata": {
        "id": "70Gypxq1Dys5"
      },
      "execution_count": null,
      "outputs": []
    },
    {
      "cell_type": "code",
      "source": [
        "Kmeans_grouping = pd.DataFrame({'Cluster': y_tested, 'Country': df_2['Country']})\n",
        "Kmeans_grouping"
      ],
      "metadata": {
        "id": "OFAbZRCCy7Kp"
      },
      "execution_count": null,
      "outputs": []
    },
    {
      "cell_type": "code",
      "source": [
        "# grouping the DataFrame by Cluster and converting each group to a dictionary to provide a detailed list of all the groups and the countries included within the groups\n",
        "clusters_dict = {str(k): v['Country'].tolist() for k, v in Hierarchical_grouping.groupby('Cluster')}\n",
        "\n",
        "# print the dictionary\n",
        "clusters_dict"
      ],
      "metadata": {
        "id": "XECYsPUQMCzC"
      },
      "execution_count": null,
      "outputs": []
    },
    {
      "cell_type": "markdown",
      "source": [
        "3 Scatter plots "
      ],
      "metadata": {
        "id": "ZyeLtk4lLdbp"
      }
    },
    {
      "cell_type": "code",
      "source": [
        "# Normalizing the df except the last 2 columns i.e Region and Country\n",
        "scaler = MinMaxScaler()\n",
        "df_2_normalized = pd.DataFrame(scaler.fit_transform(df_2.iloc[:, :-2]), columns=df_2.columns[:-2])"
      ],
      "metadata": {
        "id": "qpIa3CIU2T1k"
      },
      "execution_count": 530,
      "outputs": []
    },
    {
      "cell_type": "code",
      "source": [
        "df_2_normalized"
      ],
      "metadata": {
        "id": "aDOp5xnC2XGx"
      },
      "execution_count": null,
      "outputs": []
    },
    {
      "cell_type": "code",
      "source": [
        "# adding new column to df_2_normalized with cluster labels\n",
        "df_2_normalized['Country'] = df_2['Country'].reset_index(drop=True)\n",
        "df_2_normalized['Cluster'] = hc_tested.labels_"
      ],
      "metadata": {
        "id": "XwfxtKTL6DK6"
      },
      "execution_count": 533,
      "outputs": []
    },
    {
      "cell_type": "code",
      "source": [
        "df_2_normalized"
      ],
      "metadata": {
        "id": "-HfR07K-6J8V"
      },
      "execution_count": null,
      "outputs": []
    },
    {
      "cell_type": "markdown",
      "source": [
        "1. GDP vs URBAN POPULATION"
      ],
      "metadata": {
        "id": "l0DmczJcLjJR"
      }
    },
    {
      "cell_type": "code",
      "source": [
        "t41 = df_2_normalized[df_2_normalized.Cluster==0]\n",
        "t42 = df_2_normalized[df_2_normalized.Cluster==1]\n",
        "\n",
        "# Scatter plot: Life expectancy vs GDP\n",
        "plt.scatter(t41['GDP'], t41['Population Urban'], c ='blue')\n",
        "plt.scatter(t42['GDP'], t42['Population Urban'], c ='green')\n",
        "plt.xlabel('GDP')\n",
        "plt.ylabel('Population Urban')\n",
        "plt.title('Population Urban vs GDP')\n",
        "plt.show()"
      ],
      "metadata": {
        "id": "-lgQ2XvgLeMF"
      },
      "execution_count": null,
      "outputs": []
    },
    {
      "cell_type": "markdown",
      "source": [
        "2. Birth Rate vs Infant Mortality Rate\n"
      ],
      "metadata": {
        "id": "RV_bLnjDLrwz"
      }
    },
    {
      "cell_type": "code",
      "source": [
        "t43 = df_2_normalized[df_2_normalized.Cluster==0]\n",
        "t44 = df_2_normalized[df_2_normalized.Cluster==1]\n",
        "\n",
        "# Scatter plot: Infant Mortality Rate vs Birth Rate\n",
        "plt.scatter(t43['Birth Rate'], t43['Infant Mortality Rate'], c ='blue')\n",
        "plt.scatter(t44['Birth Rate'], t44['Infant Mortality Rate'], c ='green')\n",
        "plt.xlabel('Birth Rate')\n",
        "plt.ylabel('Infant Mortality Rate')\n",
        "plt.title('Birth Rate vs Infant Mortality Rate')\n",
        "plt.show()"
      ],
      "metadata": {
        "id": "-54RHPYGLoBj"
      },
      "execution_count": null,
      "outputs": []
    },
    {
      "cell_type": "markdown",
      "source": [
        "3. Life Expectancy Male VS Life Expectancy Female"
      ],
      "metadata": {
        "id": "CCE-zEQnL1dk"
      }
    },
    {
      "cell_type": "code",
      "source": [
        "t45 = df_2_normalized[df_2_normalized.Cluster==0]\n",
        "t46 = df_2_normalized[df_2_normalized.Cluster==1]\n",
        "\n",
        "# Scatter plot: Literacy vs GDP\n",
        "plt.scatter(t45['Life Expectancy Male'], t45['Life Expectancy Female'], c ='blue')\n",
        "plt.scatter(t46['Life Expectancy Male'], t46['Life Expectancy Female'], c ='green')\n",
        "plt.xlabel('Life Expectancy Male')\n",
        "plt.ylabel('Life Expectancy Female')\n",
        "plt.title('Life Expectancy Male vs Life Expectancy Female')\n",
        "plt.show()"
      ],
      "metadata": {
        "id": "CtQnkvyiLtNk"
      },
      "execution_count": null,
      "outputs": []
    }
  ]
}
